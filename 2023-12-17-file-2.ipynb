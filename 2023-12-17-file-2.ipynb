{
 "cells": [
  {
   "cell_type": "markdown",
   "metadata": {
    "collapsed": false
   },
   "source": [
   ]
  },
  {
   "cell_type": "code",
   "execution_count": 3,
   "metadata": {
    "collapsed": false
   },
   "outputs": [
    {
     "data": {
      "text/plain": [
       "(-4, -3)"
      ]
     },
     "execution_count": 3,
     "metadata": {
     },
     "output_type": "execute_result"
    }
   ],
   "source": [
    "#Calcula el floor y el ceiling de -3.56\n",
    "# Número dado\n",
    "numero = -3.56\n",
    "\n",
    "# Calcula el floor y el ceiling\n",
    "floor_numero = floor(numero)\n",
    "ceiling_numero = ceil(numero)\n",
    "\n",
    "floor_numero, ceiling_numero\n"
   ]
  },
  {
   "cell_type": "code",
   "execution_count": 37,
   "metadata": {
    "collapsed": false
   },
   "outputs": [
    {
     "data": {
      "text/plain": [
       "(4.605183704853362, 2.0, 2.302591852426681)"
      ]
     },
     "execution_count": 37,
     "metadata": {
     },
     "output_type": "execute_result"
    }
   ],
   "source": [
    "#Calcula el logaritmo en base e de 100, calcula el logaritmo en base 10 de 100, después calcula el cociente. ¿Cual deberia ser el resultado?\n",
    "# Número dado\n",
    "def logaritmo (arg, base):\n",
    "    return float(log(arg, base))\n",
    "numero = 100\n",
    "# Calculo el logaritmo en base e y en base 10 aplicando la función anterior\n",
    "logaritmo_base_e = logaritmo(numero, e)\n",
    "logaritmo_base_10 = logaritmo(numero, 10)\n",
    "\n",
    "# Calcula el cociente dividiendo el primer entre el segundo logaritmo antes calculado\n",
    "cociente = logaritmo_base_e / logaritmo_base_10\n",
    "\n",
    "logaritmo_base_e, logaritmo_base_10, cociente"
   ]
  },
  {
   "cell_type": "code",
   "execution_count": 26,
   "metadata": {
    "collapsed": false
   },
   "outputs": [
    {
     "data": {
      "text/plain": [
       "6.0"
      ]
     },
     "execution_count": 26,
     "metadata": {
     },
     "output_type": "execute_result"
    }
   ],
   "source": [
    "#Calcula el logaritmo en base 2 de 64.\n",
    "def logaritmo (arg, base):\n",
    "    return float(log(arg, base))\n",
    "numero = 64\n",
    "#calculo el logaritmo \n",
    "logaritmo_base_2 = logaritmo (numero, 2)\n",
    "\n",
    "logaritmo_base_2"
   ]
  },
  {
   "cell_type": "code",
   "execution_count": 9,
   "metadata": {
    "collapsed": false
   },
   "outputs": [
    {
     "data": {
      "text/plain": [
       "(-1, -1.00000000000000 + 1.22464679914735e-16*I)"
      ]
     },
     "execution_count": 9,
     "metadata": {
     },
     "output_type": "execute_result"
    }
   ],
   "source": [
    "#Compara $e^iπ$ con una aproximación numérica, usando pi.n().\n",
    "z\n",
    "# Importar la constante imaginaria 'I' que es igual a la raiz de -1\n",
    "from sage.all import I\n",
    "\n",
    "# Calcular e^(i*pi)\n",
    "resultado_exacto = exp(I * pi)\n",
    "\n",
    "# Calcular la aproximación numérica de pi\n",
    "pi_aproximado = pi.n()\n",
    "\n",
    "# Calcular la aproximación numérica de e^(i*pi)\n",
    "resultado_aproximado = exp(I * pi_aproximado)\n",
    "\n",
    "# Mostrar los resultados\n",
    "resultado_exacto, resultado_aproximado\n"
   ]
  },
  {
   "cell_type": "code",
   "execution_count": 33,
   "metadata": {
    "collapsed": false
   },
   "outputs": [
    {
     "data": {
      "text/plain": [
       "(1, 1, 5.12583089548301)"
      ]
     },
     "execution_count": 33,
     "metadata": {
     },
     "output_type": "execute_result"
    }
   ],
   "source": [
    "#Calcula sin (π/2), cot (π/4) y csc (π/16).\n",
    "\n",
    "# Calcular sin(π/2)\n",
    "sin_pi_2 = sin(π/2)\n",
    "\n",
    "# Calcular cot(π/4)\n",
    "cot_pi_4 = cot(π/4)\n",
    "\n",
    "# Calcular csc(π/16)\n",
    "csc_pi_16 = csc(π/16).n()\n",
    "\n",
    "sin_pi_2, cot_pi_4, csc_pi_16\n"
   ]
  },
  {
   "cell_type": "code",
   "execution_count": 0,
   "metadata": {
    "collapsed": false
   },
   "outputs": [
   ],
   "source": [
   ]
  }
 ],
 "metadata": {
  "kernelspec": {
   "argv": [
    "sage-10.1",
    "--python",
    "-m",
    "sage.repl.ipython_kernel",
    "--matplotlib=inline",
    "-f",
    "{connection_file}"
   ],
   "display_name": "SageMath 10.1",
   "env": {
   },
   "language": "sagemath",
   "metadata": {
    "cocalc": {
     "description": "Open-source mathematical software system",
     "priority": 10,
     "url": "https://www.sagemath.org/"
    }
   },
   "name": "sage-10.1",
   "resource_dir": "/ext/jupyter/kernels/sage-10.1"
  }
 },
 "nbformat": 4,
 "nbformat_minor": 4
}